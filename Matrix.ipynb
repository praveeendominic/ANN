{
  "nbformat": 4,
  "nbformat_minor": 0,
  "metadata": {
    "colab": {
      "provenance": []
    },
    "kernelspec": {
      "name": "python3",
      "display_name": "Python 3"
    },
    "language_info": {
      "name": "python"
    }
  },
  "cells": [
    {
      "cell_type": "code",
      "execution_count": 1,
      "metadata": {
        "id": "w1Na1fb9NE09"
      },
      "outputs": [],
      "source": [
        "import numpy as np"
      ]
    },
    {
      "cell_type": "code",
      "source": [
        "revenue_usd=np.array([[200,220,250],[68,79,105],[110,140,180],[80,85,90]])"
      ],
      "metadata": {
        "id": "TseQ3YzoNIjo"
      },
      "execution_count": 2,
      "outputs": []
    },
    {
      "cell_type": "code",
      "source": [
        "revenue_inr=revenue_usd*75\n",
        "revenue_inr#revenue in inr"
      ],
      "metadata": {
        "colab": {
          "base_uri": "https://localhost:8080/"
        },
        "id": "9C1sCXlcNjqK",
        "outputId": "9d00f0d1-e6b1-4ed6-ddc5-75c3c6577296"
      },
      "execution_count": 4,
      "outputs": [
        {
          "output_type": "execute_result",
          "data": {
            "text/plain": [
              "array([[15000, 16500, 18750],\n",
              "       [ 5100,  5925,  7875],\n",
              "       [ 8250, 10500, 13500],\n",
              "       [ 6000,  6375,  6750]])"
            ]
          },
          "metadata": {},
          "execution_count": 4
        }
      ]
    },
    {
      "cell_type": "code",
      "source": [
        "## Divine flowers is a flower shop that sells different type of flowers. Below is the table showing how many flowers of each type they sold in different months. \n",
        "## Also given are the prices of one flower each. Using this find out their total sales in every month."
      ],
      "metadata": {
        "id": "QMf1GDNpNmfp"
      },
      "execution_count": 5,
      "outputs": []
    },
    {
      "cell_type": "code",
      "source": [
        "units_sold=np.array([[50,60,25],[10,13,5],[40,70,52]])\n",
        "price_per_unit=np.array([20,30,15])\n",
        "\n",
        "np.dot(price_per_unit, units_sold)"
      ],
      "metadata": {
        "colab": {
          "base_uri": "https://localhost:8080/"
        },
        "id": "aNZrlghGOEJo",
        "outputId": "46e425a6-0d25-4cdd-ac5d-4d0bc0a10f53"
      },
      "execution_count": 7,
      "outputs": [
        {
          "output_type": "execute_result",
          "data": {
            "text/plain": [
              "array([1900, 2640, 1430])"
            ]
          },
          "metadata": {},
          "execution_count": 7
        }
      ]
    },
    {
      "cell_type": "code",
      "source": [],
      "metadata": {
        "id": "i1dEOMoAOxk1"
      },
      "execution_count": null,
      "outputs": []
    }
  ]
}