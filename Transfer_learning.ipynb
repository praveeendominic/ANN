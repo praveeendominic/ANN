{
  "nbformat": 4,
  "nbformat_minor": 0,
  "metadata": {
    "colab": {
      "provenance": [],
      "collapsed_sections": []
    },
    "kernelspec": {
      "name": "python3",
      "display_name": "Python 3"
    },
    "language_info": {
      "name": "python"
    }
  },
  "cells": [
    {
      "cell_type": "code",
      "execution_count": 63,
      "metadata": {
        "id": "hu02x-USwpMk"
      },
      "outputs": [],
      "source": [
        "import pandas as pd\n",
        "import numpy as np\n",
        "\n",
        "import tensorflow as tf\n",
        "from tensorflow.keras.layers import Dense, Flatten\n",
        "from tensorflow.keras.models import Sequential"
      ]
    },
    {
      "cell_type": "code",
      "source": [
        "from tensorflow.keras.datasets import mnist\n",
        "(X_train, y_train),(X_test, y_test) = mnist.load_data()"
      ],
      "metadata": {
        "id": "O_gKWrh-xWEZ"
      },
      "execution_count": 64,
      "outputs": []
    },
    {
      "cell_type": "code",
      "source": [
        "#Scale the independent features\n",
        "\n",
        "X_train_scaled, X_test_scaled = X_train/255, X_test/255"
      ],
      "metadata": {
        "id": "CDf2TA-E0qnz"
      },
      "execution_count": 65,
      "outputs": []
    },
    {
      "cell_type": "code",
      "source": [
        "X_train.shape, y_train.shape,X_test.shape, y_test.shape"
      ],
      "metadata": {
        "colab": {
          "base_uri": "https://localhost:8080/"
        },
        "id": "Uih0sMGgyCrx",
        "outputId": "59964fa5-958e-485e-9a03-af861710a33e"
      },
      "execution_count": 66,
      "outputs": [
        {
          "output_type": "execute_result",
          "data": {
            "text/plain": [
              "((60000, 28, 28), (60000,), (10000, 28, 28), (10000,))"
            ]
          },
          "metadata": {},
          "execution_count": 66
        }
      ]
    },
    {
      "cell_type": "code",
      "source": [
        "LAYERS = [Flatten(input_shape=(28,28), name='ip_layer'),\n",
        "          Dense(30, activation=tf.keras.activations.relu, name='hidden_layer1'),\n",
        "          Dense(30, activation=tf.keras.activations.relu, name='hidden_layer2'),\n",
        "          Dense(10, activation=tf.keras.activations.softmax, name='op_layer')]\n",
        "\n",
        "OPTIMIZER = tf.keras.optimizers.Adam(1e-3)\n",
        "\n",
        "LOSS = tf.keras.losses.sparse_categorical_crossentropy"
      ],
      "metadata": {
        "id": "o3E8I0z_x0ah"
      },
      "execution_count": 67,
      "outputs": []
    },
    {
      "cell_type": "code",
      "source": [
        "model_num_detector=Sequential(LAYERS)"
      ],
      "metadata": {
        "id": "ek0YDJq7w3V8"
      },
      "execution_count": 68,
      "outputs": []
    },
    {
      "cell_type": "code",
      "source": [
        "model_num_detector.summary()"
      ],
      "metadata": {
        "colab": {
          "base_uri": "https://localhost:8080/"
        },
        "id": "fF9y7bKnxS4M",
        "outputId": "51936318-7c4c-425c-cf48-9ae80e721190"
      },
      "execution_count": 69,
      "outputs": [
        {
          "output_type": "stream",
          "name": "stdout",
          "text": [
            "Model: \"sequential_11\"\n",
            "_________________________________________________________________\n",
            " Layer (type)                Output Shape              Param #   \n",
            "=================================================================\n",
            " ip_layer (Flatten)          (None, 784)               0         \n",
            "                                                                 \n",
            " hidden_layer1 (Dense)       (None, 30)                23550     \n",
            "                                                                 \n",
            " hidden_layer2 (Dense)       (None, 30)                930       \n",
            "                                                                 \n",
            " op_layer (Dense)            (None, 10)                310       \n",
            "                                                                 \n",
            "=================================================================\n",
            "Total params: 24,790\n",
            "Trainable params: 24,790\n",
            "Non-trainable params: 0\n",
            "_________________________________________________________________\n"
          ]
        }
      ]
    },
    {
      "cell_type": "code",
      "source": [
        "# Note that the number of trainable params in \"model_num_detector\" is 24,790"
      ],
      "metadata": {
        "id": "ORD5V1ZIzhf7"
      },
      "execution_count": 70,
      "outputs": []
    },
    {
      "cell_type": "code",
      "source": [
        "model_num_detector.compile(optimizer = OPTIMIZER, loss = LOSS, metrics = ['accuracy'])"
      ],
      "metadata": {
        "id": "Sa-daGs40AWj"
      },
      "execution_count": 71,
      "outputs": []
    },
    {
      "cell_type": "code",
      "source": [
        "early_stop_cb = tf.keras.callbacks.EarlyStopping(restore_best_weights=True, patience=5)\n",
        "model_num_detector.fit(X_train_scaled, y_train, validation_split=0.2, epochs=50, batch_size=32, verbose=True, callbacks=[early_stop_cb])"
      ],
      "metadata": {
        "colab": {
          "base_uri": "https://localhost:8080/"
        },
        "id": "9yoSkp3k0dpE",
        "outputId": "d107a052-92e9-4466-9898-1486edf6b0e1"
      },
      "execution_count": 72,
      "outputs": [
        {
          "output_type": "stream",
          "name": "stdout",
          "text": [
            "Epoch 1/50\n",
            "1500/1500 [==============================] - 5s 3ms/step - loss: 0.3751 - accuracy: 0.8883 - val_loss: 0.2013 - val_accuracy: 0.9426\n",
            "Epoch 2/50\n",
            "1500/1500 [==============================] - 5s 3ms/step - loss: 0.1815 - accuracy: 0.9475 - val_loss: 0.1636 - val_accuracy: 0.9529\n",
            "Epoch 3/50\n",
            "1500/1500 [==============================] - 5s 3ms/step - loss: 0.1438 - accuracy: 0.9560 - val_loss: 0.1345 - val_accuracy: 0.9599\n",
            "Epoch 4/50\n",
            "1500/1500 [==============================] - 5s 3ms/step - loss: 0.1188 - accuracy: 0.9644 - val_loss: 0.1283 - val_accuracy: 0.9609\n",
            "Epoch 5/50\n",
            "1500/1500 [==============================] - 5s 3ms/step - loss: 0.1004 - accuracy: 0.9699 - val_loss: 0.1196 - val_accuracy: 0.9653\n",
            "Epoch 6/50\n",
            "1500/1500 [==============================] - 5s 3ms/step - loss: 0.0896 - accuracy: 0.9727 - val_loss: 0.1137 - val_accuracy: 0.9656\n",
            "Epoch 7/50\n",
            "1500/1500 [==============================] - 5s 3ms/step - loss: 0.0809 - accuracy: 0.9751 - val_loss: 0.1174 - val_accuracy: 0.9653\n",
            "Epoch 8/50\n",
            "1500/1500 [==============================] - 4s 3ms/step - loss: 0.0720 - accuracy: 0.9778 - val_loss: 0.1124 - val_accuracy: 0.9665\n",
            "Epoch 9/50\n",
            "1500/1500 [==============================] - 4s 3ms/step - loss: 0.0657 - accuracy: 0.9798 - val_loss: 0.1116 - val_accuracy: 0.9667\n",
            "Epoch 10/50\n",
            "1500/1500 [==============================] - 4s 3ms/step - loss: 0.0604 - accuracy: 0.9815 - val_loss: 0.1332 - val_accuracy: 0.9626\n",
            "Epoch 11/50\n",
            "1500/1500 [==============================] - 5s 3ms/step - loss: 0.0544 - accuracy: 0.9830 - val_loss: 0.1154 - val_accuracy: 0.9681\n",
            "Epoch 12/50\n",
            "1500/1500 [==============================] - 4s 3ms/step - loss: 0.0518 - accuracy: 0.9832 - val_loss: 0.1163 - val_accuracy: 0.9663\n",
            "Epoch 13/50\n",
            "1500/1500 [==============================] - 5s 3ms/step - loss: 0.0468 - accuracy: 0.9854 - val_loss: 0.1190 - val_accuracy: 0.9679\n",
            "Epoch 14/50\n",
            "1500/1500 [==============================] - 4s 3ms/step - loss: 0.0431 - accuracy: 0.9864 - val_loss: 0.1296 - val_accuracy: 0.9656\n"
          ]
        },
        {
          "output_type": "execute_result",
          "data": {
            "text/plain": [
              "<keras.callbacks.History at 0x7f5250f2aed0>"
            ]
          },
          "metadata": {},
          "execution_count": 72
        }
      ]
    },
    {
      "cell_type": "code",
      "source": [
        "# Now lets use the same model's learning and try to build a new model to detect if the number detected is even or odd using TRANSFER LEARNING technique"
      ],
      "metadata": {
        "id": "6R2clzpe1cwY"
      },
      "execution_count": 29,
      "outputs": []
    },
    {
      "cell_type": "code",
      "source": [
        "model_num_detector.summary()"
      ],
      "metadata": {
        "colab": {
          "base_uri": "https://localhost:8080/"
        },
        "id": "ZTcduFD04zB3",
        "outputId": "419873d7-d25c-44bd-86a5-0f3eaea5087a"
      },
      "execution_count": 73,
      "outputs": [
        {
          "output_type": "stream",
          "name": "stdout",
          "text": [
            "Model: \"sequential_11\"\n",
            "_________________________________________________________________\n",
            " Layer (type)                Output Shape              Param #   \n",
            "=================================================================\n",
            " ip_layer (Flatten)          (None, 784)               0         \n",
            "                                                                 \n",
            " hidden_layer1 (Dense)       (None, 30)                23550     \n",
            "                                                                 \n",
            " hidden_layer2 (Dense)       (None, 30)                930       \n",
            "                                                                 \n",
            " op_layer (Dense)            (None, 10)                310       \n",
            "                                                                 \n",
            "=================================================================\n",
            "Total params: 24,790\n",
            "Trainable params: 24,790\n",
            "Non-trainable params: 0\n",
            "_________________________________________________________________\n"
          ]
        }
      ]
    },
    {
      "cell_type": "code",
      "source": [
        "for layer in model_num_detector.layers:\n",
        "  print(layer.trainable)"
      ],
      "metadata": {
        "colab": {
          "base_uri": "https://localhost:8080/"
        },
        "id": "W3i55kXd2fvV",
        "outputId": "39270c23-a345-4772-e295-3b25d5110967"
      },
      "execution_count": 74,
      "outputs": [
        {
          "output_type": "stream",
          "name": "stdout",
          "text": [
            "True\n",
            "True\n",
            "True\n",
            "True\n"
          ]
        }
      ]
    },
    {
      "cell_type": "code",
      "source": [
        "for layer in model_num_detector.layers[:-1]:\n",
        "  layer.trainable=False"
      ],
      "metadata": {
        "id": "MduMPx-t8mm_"
      },
      "execution_count": 75,
      "outputs": []
    },
    {
      "cell_type": "code",
      "source": [
        "for layer in model_num_detector.layers: # Skip the last layer and freeze the rest and create a new model that consumes it\n",
        "  print(layer.trainable)"
      ],
      "metadata": {
        "colab": {
          "base_uri": "https://localhost:8080/"
        },
        "id": "US0sBLuE8vjB",
        "outputId": "e5257239-26b5-4055-decb-982270921265"
      },
      "execution_count": 76,
      "outputs": [
        {
          "output_type": "stream",
          "name": "stdout",
          "text": [
            "False\n",
            "False\n",
            "False\n",
            "True\n"
          ]
        }
      ]
    },
    {
      "cell_type": "code",
      "source": [
        "new_model=Sequential(layers=model_num_detector.layers[:-1])"
      ],
      "metadata": {
        "id": "MHeMvqCf5egi"
      },
      "execution_count": 77,
      "outputs": []
    },
    {
      "cell_type": "code",
      "source": [
        "new_model.add(Dense(1, activation=tf.keras.activations.sigmoid))"
      ],
      "metadata": {
        "id": "xGHXWaVt2i6U"
      },
      "execution_count": 78,
      "outputs": []
    },
    {
      "cell_type": "code",
      "source": [
        "# Now preprocess the dataset to fit the new need for classifying odd/even number from the input"
      ],
      "metadata": {
        "id": "dYgOCNh92jC1"
      },
      "execution_count": 79,
      "outputs": []
    },
    {
      "cell_type": "code",
      "source": [
        "new_model.summary()"
      ],
      "metadata": {
        "colab": {
          "base_uri": "https://localhost:8080/"
        },
        "id": "z4QbD-TE2jF_",
        "outputId": "5863c18e-a977-4623-e95c-4460753e0209"
      },
      "execution_count": 80,
      "outputs": [
        {
          "output_type": "stream",
          "name": "stdout",
          "text": [
            "Model: \"sequential_12\"\n",
            "_________________________________________________________________\n",
            " Layer (type)                Output Shape              Param #   \n",
            "=================================================================\n",
            " ip_layer (Flatten)          (None, 784)               0         \n",
            "                                                                 \n",
            " hidden_layer1 (Dense)       (None, 30)                23550     \n",
            "                                                                 \n",
            " hidden_layer2 (Dense)       (None, 30)                930       \n",
            "                                                                 \n",
            " dense_13 (Dense)            (None, 1)                 31        \n",
            "                                                                 \n",
            "=================================================================\n",
            "Total params: 24,511\n",
            "Trainable params: 31\n",
            "Non-trainable params: 24,480\n",
            "_________________________________________________________________\n"
          ]
        }
      ]
    },
    {
      "cell_type": "code",
      "source": [
        "y_train"
      ],
      "metadata": {
        "colab": {
          "base_uri": "https://localhost:8080/"
        },
        "id": "PNGRnHQO9bmj",
        "outputId": "060d2ad6-53e9-4531-b8a4-311f5b5fc6a8"
      },
      "execution_count": 81,
      "outputs": [
        {
          "output_type": "execute_result",
          "data": {
            "text/plain": [
              "array([5, 0, 4, ..., 5, 6, 8], dtype=uint8)"
            ]
          },
          "metadata": {},
          "execution_count": 81
        }
      ]
    },
    {
      "cell_type": "code",
      "source": [
        "y_train_tmp=y_train.copy()"
      ],
      "metadata": {
        "id": "NKDZ1Dnn-piM"
      },
      "execution_count": 88,
      "outputs": []
    },
    {
      "cell_type": "code",
      "source": [
        "y_test"
      ],
      "metadata": {
        "colab": {
          "base_uri": "https://localhost:8080/"
        },
        "id": "Gn3rCsM29bpV",
        "outputId": "34e53680-02ce-40b0-a412-fd46998b9878"
      },
      "execution_count": 89,
      "outputs": [
        {
          "output_type": "execute_result",
          "data": {
            "text/plain": [
              "array([7, 2, 1, ..., 4, 5, 6], dtype=uint8)"
            ]
          },
          "metadata": {},
          "execution_count": 89
        }
      ]
    },
    {
      "cell_type": "code",
      "source": [
        "y_train.shape, y_test.shape"
      ],
      "metadata": {
        "colab": {
          "base_uri": "https://localhost:8080/"
        },
        "id": "by-5Lx3c9bsR",
        "outputId": "c4ecf3ea-f44f-4927-a3cb-2ea283ed8122"
      },
      "execution_count": 90,
      "outputs": [
        {
          "output_type": "execute_result",
          "data": {
            "text/plain": [
              "((60000,), (10000,))"
            ]
          },
          "metadata": {},
          "execution_count": 90
        }
      ]
    },
    {
      "cell_type": "code",
      "source": [
        "for idx, val in enumerate(y_train_tmp):\n",
        "  if val%2==0:\n",
        "    y_train_tmp[idx] = 1\n",
        "  else:\n",
        "    y_train_tmp[idx] = 0"
      ],
      "metadata": {
        "id": "4dpTEdr19bu6"
      },
      "execution_count": 91,
      "outputs": []
    },
    {
      "cell_type": "code",
      "source": [
        "y_train_tmp"
      ],
      "metadata": {
        "colab": {
          "base_uri": "https://localhost:8080/"
        },
        "id": "9kL2i8nX9bxV",
        "outputId": "9a32ec3d-e534-4cd8-e69e-65bedbf6faab"
      },
      "execution_count": 92,
      "outputs": [
        {
          "output_type": "execute_result",
          "data": {
            "text/plain": [
              "array([0, 1, 1, ..., 0, 1, 1], dtype=uint8)"
            ]
          },
          "metadata": {},
          "execution_count": 92
        }
      ]
    },
    {
      "cell_type": "code",
      "source": [
        "y_train"
      ],
      "metadata": {
        "colab": {
          "base_uri": "https://localhost:8080/"
        },
        "id": "_WRTyJ0p9b0u",
        "outputId": "b41ac0d7-a5ce-47f8-c080-4fda1739debf"
      },
      "execution_count": 93,
      "outputs": [
        {
          "output_type": "execute_result",
          "data": {
            "text/plain": [
              "array([5, 0, 4, ..., 5, 6, 8], dtype=uint8)"
            ]
          },
          "metadata": {},
          "execution_count": 93
        }
      ]
    },
    {
      "cell_type": "code",
      "source": [
        "for idx, val in enumerate(y_test):\n",
        "  if val%2==0:\n",
        "    y_test[idx] = 1\n",
        "  else:\n",
        "    y_test[idx] = 0"
      ],
      "metadata": {
        "id": "QWKrcTWJ2jJU"
      },
      "execution_count": 94,
      "outputs": []
    },
    {
      "cell_type": "code",
      "source": [
        "y_test"
      ],
      "metadata": {
        "colab": {
          "base_uri": "https://localhost:8080/"
        },
        "id": "ST-C1msD2jMj",
        "outputId": "4c258aeb-9a61-4c5b-bacb-ed88c12bbc1f"
      },
      "execution_count": 95,
      "outputs": [
        {
          "output_type": "execute_result",
          "data": {
            "text/plain": [
              "array([0, 1, 0, ..., 1, 0, 1], dtype=uint8)"
            ]
          },
          "metadata": {},
          "execution_count": 95
        }
      ]
    },
    {
      "cell_type": "code",
      "source": [
        "new_model.compile(optimizer= OPTIMIZER, loss=tf.keras.losses.binary_crossentropy, metrics=['accuracy'])"
      ],
      "metadata": {
        "id": "48p6BZsV_bZU"
      },
      "execution_count": 97,
      "outputs": []
    },
    {
      "cell_type": "code",
      "source": [
        "new_model.fit(X_train, y_train_tmp, validation_split=0.2, epochs=50, batch_size=32, verbose = True, callbacks=[early_stop_cb])"
      ],
      "metadata": {
        "colab": {
          "base_uri": "https://localhost:8080/"
        },
        "id": "4CtEvR4T_m4W",
        "outputId": "274e6584-570d-47b1-e61e-edb1c0a15ad2"
      },
      "execution_count": 99,
      "outputs": [
        {
          "output_type": "stream",
          "name": "stdout",
          "text": [
            "Epoch 1/50\n",
            "1500/1500 [==============================] - 3s 2ms/step - loss: 3.1108 - accuracy: 0.9520 - val_loss: 2.6985 - val_accuracy: 0.9503\n",
            "Epoch 2/50\n",
            "1500/1500 [==============================] - 3s 2ms/step - loss: 1.6262 - accuracy: 0.9514 - val_loss: 1.1586 - val_accuracy: 0.9536\n",
            "Epoch 3/50\n",
            "1500/1500 [==============================] - 3s 2ms/step - loss: 0.7449 - accuracy: 0.9479 - val_loss: 0.7082 - val_accuracy: 0.9427\n",
            "Epoch 4/50\n",
            "1500/1500 [==============================] - 3s 2ms/step - loss: 0.5242 - accuracy: 0.9419 - val_loss: 0.7262 - val_accuracy: 0.9179\n",
            "Epoch 5/50\n",
            "1500/1500 [==============================] - 3s 2ms/step - loss: 0.4444 - accuracy: 0.9422 - val_loss: 0.5123 - val_accuracy: 0.9442\n",
            "Epoch 6/50\n",
            "1500/1500 [==============================] - 4s 2ms/step - loss: 0.5115 - accuracy: 0.9401 - val_loss: 0.6601 - val_accuracy: 0.9317\n",
            "Epoch 7/50\n",
            "1500/1500 [==============================] - 3s 2ms/step - loss: 0.4384 - accuracy: 0.9420 - val_loss: 0.3985 - val_accuracy: 0.9493\n",
            "Epoch 8/50\n",
            "1500/1500 [==============================] - 3s 2ms/step - loss: 0.4582 - accuracy: 0.9419 - val_loss: 0.4558 - val_accuracy: 0.9367\n",
            "Epoch 9/50\n",
            "1500/1500 [==============================] - 4s 2ms/step - loss: 0.4341 - accuracy: 0.9416 - val_loss: 0.4261 - val_accuracy: 0.9491\n",
            "Epoch 10/50\n",
            "1500/1500 [==============================] - 3s 2ms/step - loss: 0.4361 - accuracy: 0.9414 - val_loss: 0.4895 - val_accuracy: 0.9477\n",
            "Epoch 11/50\n",
            "1500/1500 [==============================] - 3s 2ms/step - loss: 0.4319 - accuracy: 0.9425 - val_loss: 0.4225 - val_accuracy: 0.9498\n",
            "Epoch 12/50\n",
            "1500/1500 [==============================] - 4s 2ms/step - loss: 0.4706 - accuracy: 0.9407 - val_loss: 0.3314 - val_accuracy: 0.9494\n",
            "Epoch 13/50\n",
            "1500/1500 [==============================] - 3s 2ms/step - loss: 0.4279 - accuracy: 0.9414 - val_loss: 0.5183 - val_accuracy: 0.9392\n",
            "Epoch 14/50\n",
            "1500/1500 [==============================] - 3s 2ms/step - loss: 0.4539 - accuracy: 0.9404 - val_loss: 0.4731 - val_accuracy: 0.9522\n",
            "Epoch 15/50\n",
            "1500/1500 [==============================] - 3s 2ms/step - loss: 0.4238 - accuracy: 0.9426 - val_loss: 0.4204 - val_accuracy: 0.9409\n",
            "Epoch 16/50\n",
            "1500/1500 [==============================] - 3s 2ms/step - loss: 0.4743 - accuracy: 0.9415 - val_loss: 0.3376 - val_accuracy: 0.9497\n",
            "Epoch 17/50\n",
            "1500/1500 [==============================] - 3s 2ms/step - loss: 0.4435 - accuracy: 0.9408 - val_loss: 0.5157 - val_accuracy: 0.9458\n"
          ]
        },
        {
          "output_type": "execute_result",
          "data": {
            "text/plain": [
              "<keras.callbacks.History at 0x7f5250f30a90>"
            ]
          },
          "metadata": {},
          "execution_count": 99
        }
      ]
    },
    {
      "cell_type": "code",
      "source": [
        "y_pred=(new_model.predict(X_test))>0.5"
      ],
      "metadata": {
        "colab": {
          "base_uri": "https://localhost:8080/"
        },
        "id": "w5Lo6DZkABEd",
        "outputId": "04c4591f-799b-4b80-df12-cc9d188c190c"
      },
      "execution_count": 103,
      "outputs": [
        {
          "output_type": "stream",
          "name": "stdout",
          "text": [
            "313/313 [==============================] - 1s 2ms/step\n"
          ]
        }
      ]
    },
    {
      "cell_type": "code",
      "source": [
        "from sklearn.metrics import classification_report\n",
        "\n",
        "print(classification_report(y_test, y_pred))"
      ],
      "metadata": {
        "colab": {
          "base_uri": "https://localhost:8080/"
        },
        "id": "43o4eqWcAj36",
        "outputId": "acc74b43-86c2-4f0c-bc05-808df3847bda"
      },
      "execution_count": 106,
      "outputs": [
        {
          "output_type": "stream",
          "name": "stdout",
          "text": [
            "              precision    recall  f1-score   support\n",
            "\n",
            "           0       0.93      0.97      0.95      5074\n",
            "           1       0.96      0.93      0.95      4926\n",
            "\n",
            "    accuracy                           0.95     10000\n",
            "   macro avg       0.95      0.95      0.95     10000\n",
            "weighted avg       0.95      0.95      0.95     10000\n",
            "\n"
          ]
        }
      ]
    },
    {
      "cell_type": "code",
      "source": [
        "new_model.evaluate(X_test, y_test)"
      ],
      "metadata": {
        "colab": {
          "base_uri": "https://localhost:8080/"
        },
        "id": "g7k8mmUzAj6m",
        "outputId": "2cd1da3b-f746-4a83-c637-bb1eecf15c7d"
      },
      "execution_count": 111,
      "outputs": [
        {
          "output_type": "stream",
          "name": "stdout",
          "text": [
            "313/313 [==============================] - 1s 2ms/step - loss: 0.3260 - accuracy: 0.9479\n"
          ]
        },
        {
          "output_type": "execute_result",
          "data": {
            "text/plain": [
              "[0.32602670788764954, 0.9478999972343445]"
            ]
          },
          "metadata": {},
          "execution_count": 111
        }
      ]
    },
    {
      "cell_type": "code",
      "source": [],
      "metadata": {
        "id": "vNc1wGm7Aj9n"
      },
      "execution_count": null,
      "outputs": []
    },
    {
      "cell_type": "code",
      "source": [],
      "metadata": {
        "id": "jz9mI36aAkAf"
      },
      "execution_count": null,
      "outputs": []
    },
    {
      "cell_type": "code",
      "source": [],
      "metadata": {
        "id": "PG10JyxKAkDQ"
      },
      "execution_count": null,
      "outputs": []
    },
    {
      "cell_type": "code",
      "source": [],
      "metadata": {
        "id": "yKbnxUaGAkGQ"
      },
      "execution_count": null,
      "outputs": []
    },
    {
      "cell_type": "code",
      "source": [],
      "metadata": {
        "id": "8XmwvuVYAkJu"
      },
      "execution_count": null,
      "outputs": []
    }
  ]
}